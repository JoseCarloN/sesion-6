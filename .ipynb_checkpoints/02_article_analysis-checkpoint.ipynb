{
 "cells": [
  {
   "cell_type": "markdown",
   "id": "2327c8b1-c98b-4753-9790-c747cc616142",
   "metadata": {},
   "source": [
    "### Importing dependencies"
   ]
  },
  {
   "cell_type": "code",
   "execution_count": null,
   "id": "89308945-3369-462e-82a3-d6f7f86de45d",
   "metadata": {},
   "outputs": [],
   "source": [
    "import pandas as pd\n",
    "import numpy as np\n",
    "import matplotlib.pyplot as plt"
   ]
  },
  {
   "cell_type": "markdown",
   "id": "0e08ed0c-0012-4fbb-9001-4353cfe71dc2",
   "metadata": {},
   "source": [
    "### Reading csv file"
   ]
  },
  {
   "cell_type": "code",
   "execution_count": 12,
   "id": "bd33d880-d206-42da-9ec6-aacb1879a38e",
   "metadata": {},
   "outputs": [],
   "source": [
    "FILENAME = 'datasets/articles_data_homeproject.csv'\n",
    "\n",
    "articles_data = pd.read_csv(FILENAME, index_col=0)"
   ]
  },
  {
   "cell_type": "markdown",
   "id": "61bf4c65-535c-4849-b000-c2f1233f48a8",
   "metadata": {},
   "source": [
    "### Show first n rows from dataframe"
   ]
  },
  {
   "cell_type": "code",
   "execution_count": 17,
   "id": "0fe2bca2-41e1-48ff-9985-0c50249f805a",
   "metadata": {},
   "outputs": [
    {
     "data": {
      "text/html": [
       "<div>\n",
       "<style scoped>\n",
       "    .dataframe tbody tr th:only-of-type {\n",
       "        vertical-align: middle;\n",
       "    }\n",
       "\n",
       "    .dataframe tbody tr th {\n",
       "        vertical-align: top;\n",
       "    }\n",
       "\n",
       "    .dataframe thead th {\n",
       "        text-align: right;\n",
       "    }\n",
       "</style>\n",
       "<table border=\"1\" class=\"dataframe\">\n",
       "  <thead>\n",
       "    <tr style=\"text-align: right;\">\n",
       "      <th></th>\n",
       "      <th>source_id</th>\n",
       "      <th>source_name</th>\n",
       "      <th>author</th>\n",
       "      <th>title</th>\n",
       "      <th>description</th>\n",
       "      <th>url</th>\n",
       "      <th>url_to_image</th>\n",
       "      <th>published_at</th>\n",
       "      <th>content</th>\n",
       "      <th>top_article</th>\n",
       "      <th>engagement_reaction_count</th>\n",
       "      <th>engagement_comment_count</th>\n",
       "      <th>engagement_share_count</th>\n",
       "      <th>engagement_comment_plugin_count</th>\n",
       "    </tr>\n",
       "  </thead>\n",
       "  <tbody>\n",
       "    <tr>\n",
       "      <th>0</th>\n",
       "      <td>reuters</td>\n",
       "      <td>Reuters</td>\n",
       "      <td>Reuters Editorial</td>\n",
       "      <td>NTSB says Autopilot engaged in 2018 California...</td>\n",
       "      <td>The National Transportation Safety Board said ...</td>\n",
       "      <td>https://www.reuters.com/article/us-tesla-crash...</td>\n",
       "      <td>https://s4.reutersmedia.net/resources/r/?m=02&amp;...</td>\n",
       "      <td>2019-09-03T16:22:20Z</td>\n",
       "      <td>WASHINGTON (Reuters) - The National Transporta...</td>\n",
       "      <td>0.0</td>\n",
       "      <td>0.0</td>\n",
       "      <td>0.0</td>\n",
       "      <td>2528.0</td>\n",
       "      <td>0.0</td>\n",
       "    </tr>\n",
       "    <tr>\n",
       "      <th>1</th>\n",
       "      <td>the-irish-times</td>\n",
       "      <td>The Irish Times</td>\n",
       "      <td>Eoin Burke-Kennedy</td>\n",
       "      <td>Unemployment falls to post-crash low of 5.2%</td>\n",
       "      <td>Latest monthly figures reflect continued growt...</td>\n",
       "      <td>https://www.irishtimes.com/business/economy/un...</td>\n",
       "      <td>https://www.irishtimes.com/image-creator/?id=1...</td>\n",
       "      <td>2019-09-03T10:32:28Z</td>\n",
       "      <td>The States jobless rate fell to 5.2 per cent l...</td>\n",
       "      <td>0.0</td>\n",
       "      <td>6.0</td>\n",
       "      <td>10.0</td>\n",
       "      <td>2.0</td>\n",
       "      <td>0.0</td>\n",
       "    </tr>\n",
       "  </tbody>\n",
       "</table>\n",
       "</div>"
      ],
      "text/plain": [
       "         source_id      source_name              author  \\\n",
       "0          reuters          Reuters   Reuters Editorial   \n",
       "1  the-irish-times  The Irish Times  Eoin Burke-Kennedy   \n",
       "\n",
       "                                               title  \\\n",
       "0  NTSB says Autopilot engaged in 2018 California...   \n",
       "1       Unemployment falls to post-crash low of 5.2%   \n",
       "\n",
       "                                         description  \\\n",
       "0  The National Transportation Safety Board said ...   \n",
       "1  Latest monthly figures reflect continued growt...   \n",
       "\n",
       "                                                 url  \\\n",
       "0  https://www.reuters.com/article/us-tesla-crash...   \n",
       "1  https://www.irishtimes.com/business/economy/un...   \n",
       "\n",
       "                                        url_to_image          published_at  \\\n",
       "0  https://s4.reutersmedia.net/resources/r/?m=02&...  2019-09-03T16:22:20Z   \n",
       "1  https://www.irishtimes.com/image-creator/?id=1...  2019-09-03T10:32:28Z   \n",
       "\n",
       "                                             content  top_article  \\\n",
       "0  WASHINGTON (Reuters) - The National Transporta...          0.0   \n",
       "1  The States jobless rate fell to 5.2 per cent l...          0.0   \n",
       "\n",
       "   engagement_reaction_count  engagement_comment_count  \\\n",
       "0                        0.0                       0.0   \n",
       "1                        6.0                      10.0   \n",
       "\n",
       "   engagement_share_count  engagement_comment_plugin_count  \n",
       "0                  2528.0                              0.0  \n",
       "1                     2.0                              0.0  "
      ]
     },
     "execution_count": 17,
     "metadata": {},
     "output_type": "execute_result"
    }
   ],
   "source": [
    "articles_data.head(n=2)"
   ]
  },
  {
   "cell_type": "markdown",
   "id": "127358d4-9bf5-48dc-89ba-fd45355221b2",
   "metadata": {},
   "source": [
    "### show datatypes"
   ]
  },
  {
   "cell_type": "code",
   "execution_count": 18,
   "id": "d4cef378-72a8-4ef6-88c0-babc0f43c2d2",
   "metadata": {},
   "outputs": [
    {
     "data": {
      "text/plain": [
       "source_id                           object\n",
       "source_name                         object\n",
       "author                              object\n",
       "title                               object\n",
       "description                         object\n",
       "url                                 object\n",
       "url_to_image                        object\n",
       "published_at                        object\n",
       "content                             object\n",
       "top_article                        float64\n",
       "engagement_reaction_count          float64\n",
       "engagement_comment_count           float64\n",
       "engagement_share_count             float64\n",
       "engagement_comment_plugin_count    float64\n",
       "dtype: object"
      ]
     },
     "execution_count": 18,
     "metadata": {},
     "output_type": "execute_result"
    }
   ],
   "source": [
    "articles_data.dtypes"
   ]
  },
  {
   "cell_type": "markdown",
   "id": "9d57b2e0-9d38-409c-8201-b7cdc0c4ef68",
   "metadata": {},
   "source": [
    "### Count empty/null files per attribute"
   ]
  },
  {
   "cell_type": "code",
   "execution_count": 25,
   "id": "808079de-0efa-4ba9-b7c4-b5cbef893c1f",
   "metadata": {},
   "outputs": [
    {
     "data": {
      "text/html": [
       "<div>\n",
       "<style scoped>\n",
       "    .dataframe tbody tr th:only-of-type {\n",
       "        vertical-align: middle;\n",
       "    }\n",
       "\n",
       "    .dataframe tbody tr th {\n",
       "        vertical-align: top;\n",
       "    }\n",
       "\n",
       "    .dataframe thead th {\n",
       "        text-align: right;\n",
       "    }\n",
       "</style>\n",
       "<table border=\"1\" class=\"dataframe\">\n",
       "  <thead>\n",
       "    <tr style=\"text-align: right;\">\n",
       "      <th></th>\n",
       "      <th>0</th>\n",
       "    </tr>\n",
       "  </thead>\n",
       "  <tbody>\n",
       "    <tr>\n",
       "      <th>source_id</th>\n",
       "      <td>0</td>\n",
       "    </tr>\n",
       "    <tr>\n",
       "      <th>source_name</th>\n",
       "      <td>0</td>\n",
       "    </tr>\n",
       "    <tr>\n",
       "      <th>author</th>\n",
       "      <td>1020</td>\n",
       "    </tr>\n",
       "    <tr>\n",
       "      <th>title</th>\n",
       "      <td>2</td>\n",
       "    </tr>\n",
       "    <tr>\n",
       "      <th>description</th>\n",
       "      <td>24</td>\n",
       "    </tr>\n",
       "    <tr>\n",
       "      <th>url</th>\n",
       "      <td>1</td>\n",
       "    </tr>\n",
       "    <tr>\n",
       "      <th>url_to_image</th>\n",
       "      <td>656</td>\n",
       "    </tr>\n",
       "    <tr>\n",
       "      <th>published_at</th>\n",
       "      <td>1</td>\n",
       "    </tr>\n",
       "    <tr>\n",
       "      <th>content</th>\n",
       "      <td>1292</td>\n",
       "    </tr>\n",
       "    <tr>\n",
       "      <th>top_article</th>\n",
       "      <td>2</td>\n",
       "    </tr>\n",
       "    <tr>\n",
       "      <th>engagement_reaction_count</th>\n",
       "      <td>118</td>\n",
       "    </tr>\n",
       "    <tr>\n",
       "      <th>engagement_comment_count</th>\n",
       "      <td>118</td>\n",
       "    </tr>\n",
       "    <tr>\n",
       "      <th>engagement_share_count</th>\n",
       "      <td>118</td>\n",
       "    </tr>\n",
       "    <tr>\n",
       "      <th>engagement_comment_plugin_count</th>\n",
       "      <td>118</td>\n",
       "    </tr>\n",
       "  </tbody>\n",
       "</table>\n",
       "</div>"
      ],
      "text/plain": [
       "                                    0\n",
       "source_id                           0\n",
       "source_name                         0\n",
       "author                           1020\n",
       "title                               2\n",
       "description                        24\n",
       "url                                 1\n",
       "url_to_image                      656\n",
       "published_at                        1\n",
       "content                          1292\n",
       "top_article                         2\n",
       "engagement_reaction_count         118\n",
       "engagement_comment_count          118\n",
       "engagement_share_count            118\n",
       "engagement_comment_plugin_count   118"
      ]
     },
     "execution_count": 25,
     "metadata": {},
     "output_type": "execute_result"
    }
   ],
   "source": [
    "articles_data.isnull().sum().to_frame()"
   ]
  },
  {
   "cell_type": "markdown",
   "id": "82f297ab-e025-4981-987a-b52b6ed8e535",
   "metadata": {},
   "source": [
    "### Selecting attributes to analyze"
   ]
  },
  {
   "cell_type": "code",
   "execution_count": 27,
   "id": "e705a08c-33a3-42d7-9039-7efaa97162e3",
   "metadata": {},
   "outputs": [],
   "source": [
    "ATTRIBUTES = [\n",
    "    'source_name',\n",
    "    'author',\n",
    "    'engagement_reaction_count',\n",
    "    'engagement_comment_count',\n",
    "    'engagement_share_count',\n",
    "    'engagement_comment_plugin_count'\n",
    "]"
   ]
  },
  {
   "cell_type": "markdown",
   "id": "2df44bc0-f1b5-45ce-a4c0-c5ef1ca3034f",
   "metadata": {},
   "source": [
    "### Droping any row that contains no data in one of it's attributes"
   ]
  },
  {
   "cell_type": "code",
   "execution_count": 28,
   "id": "d87c457c-fc7d-4fbe-b883-44b8e69cf6ff",
   "metadata": {},
   "outputs": [],
   "source": [
    "data = articles_data[ATTRIBUTES].dropna(axis=0, how='any')"
   ]
  },
  {
   "cell_type": "markdown",
   "id": "b189f32e-e733-450a-9e28-b1f19c8ceb0c",
   "metadata": {},
   "source": [
    "### Getting number of reactions and shares from every source"
   ]
  },
  {
   "cell_type": "code",
   "execution_count": 34,
   "id": "8c76e8a9-34fc-4d51-a4c5-ef5ead14b4ac",
   "metadata": {},
   "outputs": [],
   "source": [
    "reaction_data = data.groupby('source_name')['engagement_reaction_count'].sum().to_frame()"
   ]
  },
  {
   "cell_type": "code",
   "execution_count": 36,
   "id": "eccbee86-5acb-4c4c-9724-aea007a3fe03",
   "metadata": {},
   "outputs": [],
   "source": [
    "share_data = data.groupby('source_name')['engagement_share_count'].sum().to_frame()"
   ]
  },
  {
   "cell_type": "markdown",
   "id": "6eab1062-618b-455f-b39f-dd513f27d013",
   "metadata": {},
   "source": [
    "### Sites with highest number of articles"
   ]
  },
  {
   "cell_type": "code",
   "execution_count": 54,
   "id": "77533adc-5669-456d-8f49-ebc18ef96f8d",
   "metadata": {},
   "outputs": [
    {
     "name": "stdout",
     "output_type": "stream",
     "text": [
      "12\n"
     ]
    }
   ],
   "source": [
    "highest_source = data['source_name'].value_counts().to_frame()\n",
    "highest_source"
   ]
  },
  {
   "cell_type": "markdown",
   "id": "f066240c-f8b0-4ee3-901b-19683731ce93",
   "metadata": {},
   "source": [
    "# Data Viz!!!"
   ]
  },
  {
   "cell_type": "markdown",
   "id": "87e46ac7-8a55-49d3-b488-7c5f1ee7f2b7",
   "metadata": {},
   "source": [
    "### Pie chart"
   ]
  },
  {
   "cell_type": "code",
   "execution_count": 56,
   "id": "37993e14-c4aa-49f0-a7a4-3419e59b2394",
   "metadata": {
    "scrolled": true
   },
   "outputs": [
    {
     "name": "stdout",
     "output_type": "stream",
     "text": [
      "['Reuters', 'ABC News', 'Business Insider', 'The Irish Times', 'CNN', 'CBS News', 'The New York Times', 'BBC News', 'Newsweek', 'Al Jazeera English', 'The Wall Street Journal', 'ESPN']\n"
     ]
    }
   ],
   "source": [
    "# Turning the first attribute values to a list\n",
    "labels = list(highest_source.index.values)\n",
    "print(labels)"
   ]
  },
  {
   "cell_type": "code",
   "execution_count": 64,
   "id": "bc11e0dc-64fc-4dfa-b9b7-bf2503d5c708",
   "metadata": {},
   "outputs": [
    {
     "data": {
      "image/png": "[encoded data removed]",
      "text/plain": [
       "<Figure size 640x480 with 1 Axes>"
      ]
     },
     "metadata": {},
     "output_type": "display_data"
    }
   ],
   "source": [
    "plt.pie(highest_source['count'], labels=labels, autopct='%1.0f%%')\n",
    "plt.show()"
   ]
  },
  {
   "cell_type": "code",
   "execution_count": null,
   "id": "7412d1b8-a056-4065-83c1-3fb2fed50130",
   "metadata": {},
   "outputs": [],
   "source": []
  }
 ],
 "metadata": {
  "kernelspec": {
   "display_name": "Python 3 (ipykernel)",
   "language": "python",
   "name": "python3"
  },
  "language_info": {
   "codemirror_mode": {
    "name": "ipython",
    "version": 3
   },
   "file_extension": ".py",
   "mimetype": "text/x-python",
   "name": "python",
   "nbconvert_exporter": "python",
   "pygments_lexer": "ipython3",
   "version": "3.12.0"
  }
 },
 "nbformat": 4,
 "nbformat_minor": 5
}
